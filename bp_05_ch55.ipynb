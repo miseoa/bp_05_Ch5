{
  "nbformat": 4,
  "nbformat_minor": 0,
  "metadata": {
    "colab": {
      "provenance": [],
      "authorship_tag": "ABX9TyO/8G9ETOI6wr5YsT4mrJ4t",
      "include_colab_link": true
    },
    "kernelspec": {
      "name": "python3",
      "display_name": "Python 3"
    },
    "language_info": {
      "name": "python"
    }
  },
  "cells": [
    {
      "cell_type": "markdown",
      "metadata": {
        "id": "view-in-github",
        "colab_type": "text"
      },
      "source": [
        "<a href=\"https://colab.research.google.com/github/miseoa/bp_05_Ch5/blob/main/bp_05_ch55.ipynb\" target=\"_parent\"><img src=\"https://colab.research.google.com/assets/colab-badge.svg\" alt=\"Open In Colab\"/></a>"
      ]
    },
    {
      "cell_type": "code",
      "execution_count": null,
      "metadata": {
        "id": "eUyk-fypexwT"
      },
      "outputs": [],
      "source": [
        "1. 다음 프로그램의 출력은 무엇인가?"
      ]
    },
    {
      "cell_type": "code",
      "source": [
        "age=20\n",
        "if age<20:\n",
        "  print(\"20살 미만\")\n",
        "else:\n",
        "  print(\"20살 이상\")"
      ],
      "metadata": {
        "colab": {
          "base_uri": "https://localhost:8080/"
        },
        "id": "_Xi1CvkJfcDN",
        "outputId": "f4be8b1f-99e4-4d56-9473-e0ec1452c4bf"
      },
      "execution_count": 1,
      "outputs": [
        {
          "output_type": "stream",
          "name": "stdout",
          "text": [
            "20살 이상\n"
          ]
        }
      ]
    },
    {
      "cell_type": "markdown",
      "source": [
        "2. 1번 문제에서 age가 30 이상이고 50 이하인 것을 체크하려면 어떻게 하여야 하는가?"
      ],
      "metadata": {
        "id": "K_4VUuuZgC7p"
      }
    },
    {
      "cell_type": "code",
      "source": [
        "age=int(input(\"나이를 입력하시오.:\"))\n",
        "if age >=30 and age <=50:\n",
        "  print(\"30살 이상 50살 이하\")\n",
        "else:\n",
        "  print(\"30살 이상 50살 이하를 제외한 나머지\")"
      ],
      "metadata": {
        "colab": {
          "base_uri": "https://localhost:8080/"
        },
        "id": "dDhKAXapgJW5",
        "outputId": "878d5dfa-efd5-41ce-8205-983e18f5510c"
      },
      "execution_count": 2,
      "outputs": [
        {
          "output_type": "stream",
          "name": "stdout",
          "text": [
            "나이를 입력하시오.:45\n",
            "30살 이상 50살 이하\n"
          ]
        }
      ]
    },
    {
      "cell_type": "markdown",
      "source": [
        "3. 사용자에게 현재 온도를 질문하고 온도가 25도 이상이면 반바지를 추천하고 25도 미만이면 긴바지를 추천하는 프로그램을 작성해보자."
      ],
      "metadata": {
        "id": "kB3vxs74ghSC"
      }
    },
    {
      "cell_type": "code",
      "source": [
        "tem=int(input(\"현재 온도를 입력하시오.:\"))\n",
        "if(tem>=25):\n",
        "  print(\"반바지를 입으세요.\")\n",
        "else:\n",
        "  print(\"긴바지를 입으세요.\")"
      ],
      "metadata": {
        "colab": {
          "base_uri": "https://localhost:8080/"
        },
        "id": "NovYeTq2gpCr",
        "outputId": "d80beb6d-8afe-4b76-c5e2-bf94c6307ce6"
      },
      "execution_count": 3,
      "outputs": [
        {
          "output_type": "stream",
          "name": "stdout",
          "text": [
            "현재 온도를 입력하시오.:12\n",
            "긴바지를 입으세요.\n"
          ]
        }
      ]
    },
    {
      "cell_type": "markdown",
      "source": [
        "4. 학생의 시험 점수를 물어보고 시험 점수가 90점 이상이면 A, 80점 이상이면 B, 70점 이상이면 C, 60점 이상이면 D, 그 외의 점수이면 F학점으로 주는 프로그램을 작성하라."
      ],
      "metadata": {
        "id": "2kdbK_UbhBR0"
      }
    },
    {
      "cell_type": "code",
      "source": [
        "grade=int(input(\" 성적을 입력하시오.:\"))\n",
        "\n",
        "if grade>=90:\n",
        "  print(\"점수가\"+str(grade)+\"점이므로 A학점 입니다.\")\n",
        "elif grade>=80:\n",
        "  print(\"점수가\"+str(grade)+\"점이므로 B학점 입니다.\")\n",
        "elif grade>=70:\n",
        "  print(\"점수가\"+str(grade)+\"점이므로 C학점 입니다.\")\n",
        "elif grade>=60:\n",
        "  print(\"점수가\"+str(grade)+\"점이므로 D학점 입니다.\")\n",
        "\n",
        "else:\n",
        "  print(\"F학점입니다.\")"
      ],
      "metadata": {
        "colab": {
          "base_uri": "https://localhost:8080/"
        },
        "id": "X25Kk_6hhVTy",
        "outputId": "49ffca00-1ea7-4f8c-a9cc-d63ee5b076e3"
      },
      "execution_count": 4,
      "outputs": [
        {
          "output_type": "stream",
          "name": "stdout",
          "text": [
            " 성적을 입력하시오.:100\n",
            "점수가100점이므로 A학점 입니다.\n"
          ]
        }
      ]
    },
    {
      "cell_type": "markdown",
      "source": [
        "5. 난수를 사용하여 1부터 100사이 숫자를 사용하는 뺄셈 문제를 생성 사용자에게 물어본 후 사용자의 단변이 올바른지 검사하는 프로그램을 작성"
      ],
      "metadata": {
        "id": "R89rGTeciSvL"
      }
    },
    {
      "cell_type": "code",
      "source": [
        "import random\n",
        "\n",
        "x= random.randint(1,100)\n",
        "y= random.randint(1,100) \n",
        "\n",
        "print(str(x)+\"-\"+str(y)+\"=?\")\n",
        "sol=int(input(\"이 문제의 정답을 말하시오=\"))\n",
        "\n",
        "ok=int(x-y)\n",
        "if sol==ok:\n",
        "  print(\"정답입니다.\")\n",
        "\n",
        "else:\n",
        "  print(\"다시 한 번 생각해주세요.\")"
      ],
      "metadata": {
        "colab": {
          "base_uri": "https://localhost:8080/"
        },
        "id": "HDKkvvBfieDJ",
        "outputId": "89fb4f96-2d24-40d4-db1c-0b339d19bc76"
      },
      "execution_count": 5,
      "outputs": [
        {
          "output_type": "stream",
          "name": "stdout",
          "text": [
            "96-43=?\n",
            "이 문제의 정답을 말하시오=53\n",
            "정답입니다.\n"
          ]
        }
      ]
    },
    {
      "cell_type": "markdown",
      "source": [
        "6. 사용자로부터 정수를 받아서 이 정수가 2와 3으로 나누어 떨어질 수 있는지 출력하라"
      ],
      "metadata": {
        "id": "MV7zTeOhjfNv"
      }
    },
    {
      "cell_type": "code",
      "source": [
        "num=int(input(\"정수를 입력하시오:\"))\n",
        "if num%2==0 and num%3==0:\n",
        "  print(\"2와 3으로 나누어 떨어집니다.\")\n",
        "else:\n",
        "  print(\"2와 3으로 나누어 떨어지지 않습니다.\")"
      ],
      "metadata": {
        "colab": {
          "base_uri": "https://localhost:8080/"
        },
        "id": "513gcF_9jl7O",
        "outputId": "0e23a30f-4272-4f58-bfaf-a7fd794a3646"
      },
      "execution_count": 7,
      "outputs": [
        {
          "output_type": "stream",
          "name": "stdout",
          "text": [
            "정수를 입력하시오:66\n",
            "2와 3으로 나누어 떨어집니다.\n"
          ]
        }
      ]
    },
    {
      "cell_type": "markdown",
      "source": [
        "7. 2자리 숫자로 이루어진 복권이 있다. 사용자가 가지고 있는 복권 번호가 2자리 모두 일치하면 100만원을 받는다. 2자리 중에서 하나만 일치하면 50만원을 받는다. 하나도 일치하지 않으면 상금이 없다. 복권 당첨번호는 난수로 생성하고 사용자의 입력에 따라서 상금이 얼마인지를 출력하는 프로그램을 작성하라."
      ],
      "metadata": {
        "id": "A92udQ1HkD8m"
      }
    },
    {
      "cell_type": "code",
      "source": [
        "import random\n",
        "num=random.randint(1,100)\n",
        "user=int(input(\"복권번호를 입력하시오(0에서 99사이):\"))\n",
        "print(\"당첨번호는\"+str(num)+\"입니다.\")\n",
        "\n",
        "digit1=num//10\n",
        "digit2=num%10\n",
        "digit3=user//10\n",
        "digit4=user%10\n",
        "\n",
        "if digit1==digit3 and digit2==digit4:\n",
        "  print(\"당신의 상금은 100만원입니다.\")\n",
        "\n",
        "elif digit1==digit3 or digit2==digit4:\n",
        "  print(\"당신의 상금은 50만원입니다.\")\n",
        "\n",
        "else:\n",
        "  print(\"꽝입니다.\")"
      ],
      "metadata": {
        "colab": {
          "base_uri": "https://localhost:8080/"
        },
        "id": "yXEaoOhrkYG5",
        "outputId": "e0bcd715-003c-41b9-c790-cb6443395423"
      },
      "execution_count": 10,
      "outputs": [
        {
          "output_type": "stream",
          "name": "stdout",
          "text": [
            "복권번호를 입력하시오(0에서 99사이):52\n",
            "당첨번호는45입니다.\n",
            "꽝입니다.\n"
          ]
        }
      ]
    },
    {
      "cell_type": "markdown",
      "source": [],
      "metadata": {
        "id": "UBFAU1X1mFJG"
      }
    },
    {
      "cell_type": "code",
      "source": [],
      "metadata": {
        "id": "51NK3eGlkm41"
      },
      "execution_count": null,
      "outputs": []
    }
  ]
}